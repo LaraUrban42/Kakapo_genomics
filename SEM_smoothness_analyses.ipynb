{
 "cells": [
  {
   "cell_type": "code",
   "execution_count": 10,
   "id": "302642ef",
   "metadata": {},
   "outputs": [
    {
     "name": "stdout",
     "output_type": "stream",
     "text": [
      "Smoothness measure: 10.619245885299446\n"
     ]
    }
   ],
   "source": [
    "import cv2\n",
    "import numpy as np\n",
    "\n",
    "def quantify_smoothness(image_path):\n",
    "    # Step 1: Read the image\n",
    "    image = cv2.imread(image_path)\n",
    "\n",
    "    # Step 2: Convert the image to grayscale\n",
    "    gray_image = cv2.cvtColor(image, cv2.COLOR_BGR2GRAY)\n",
    "\n",
    "    # Step 3: Compute the gradient magnitude\n",
    "    gradient_x = cv2.Sobel(gray_image, cv2.CV_64F, 1, 0, ksize=3)\n",
    "    gradient_y = cv2.Sobel(gray_image, cv2.CV_64F, 0, 1, ksize=3)\n",
    "    gradient_magnitude = np.sqrt(gradient_x**2 + gradient_y**2)\n",
    "\n",
    "    # Step 4: Calculate a measure of smoothness\n",
    "    smoothness_measure = np.mean(gradient_magnitude)  # You can use median, max, min, or other statistics as well\n",
    "\n",
    "    return smoothness_measure\n",
    "\n",
    "# Example usage\n",
    "image_path = 'C:/Users/farha/Downloads/Kakapo/Smoothness/2_left.png'\n",
    "smoothness = quantify_smoothness(image_path)\n",
    "print(\"Smoothness measure:\", smoothness)"
   ]
  },
  {
   "cell_type": "code",
   "execution_count": 14,
   "id": "59702122",
   "metadata": {},
   "outputs": [
    {
     "name": "stdout",
     "output_type": "stream",
     "text": [
      "Annotated image saved: annotated_images\\Green_1.png\n",
      "Annotated image saved: annotated_images\\Green_2.png\n"
     ]
    }
   ],
   "source": [
    "import cv2\n",
    "import os\n",
    "\n",
    "def quantify_smoothness(image_path):\n",
    "    # Placeholder implementation of quantify_smoothness function\n",
    "    # You need to replace this with your actual implementation\n",
    "    return 1000  # Example value for demonstration\n",
    "\n",
    "# Output directory for annotated images\n",
    "output_directory = 'annotated_images'\n",
    "\n",
    "# Create the output directory if it doesn't exist\n",
    "os.makedirs(output_directory, exist_ok=True)\n",
    "\n",
    "# Image directory\n",
    "image_directory = 'C:/Users/farha/Downloads/Kakapo/Smoothness/Green'\n",
    "\n",
    "# Get a list of image files in the directory\n",
    "image_files = [f for f in os.listdir(image_directory) if f.endswith('.png')]\n",
    "\n",
    "# Iterate over each image file\n",
    "for image_file in image_files:\n",
    "    # Get the full path of the image\n",
    "    image_path = os.path.join(image_directory, image_file)\n",
    "    \n",
    "    # Quantify smoothness\n",
    "    smoothness = quantify_smoothness(image_path)\n",
    "    \n",
    "    # Read the image\n",
    "    image = cv2.imread(image_path)\n",
    "    \n",
    "    # Annotate the image with the smoothness measure\n",
    "    annotated_image = image.copy()\n",
    "    cv2.putText(annotated_image, f'Smoothness: {smoothness}', (20, 50), cv2.FONT_HERSHEY_SIMPLEX, 1, (0, 255, 0), 2)\n",
    "    \n",
    "    # Save the annotated image\n",
    "    output_path = os.path.join(output_directory, image_file)\n",
    "    cv2.imwrite(output_path, annotated_image)\n",
    "    \n",
    "    print(f'Annotated image saved: {output_path}')\n"
   ]
  },
  {
   "cell_type": "code",
   "execution_count": 17,
   "id": "6900b0e1",
   "metadata": {},
   "outputs": [
    {
     "name": "stdout",
     "output_type": "stream",
     "text": [
      "Annotated image saved: annotated_images\\Olive_1.png\n",
      "Annotated image saved: annotated_images\\Olive_2.png\n"
     ]
    }
   ],
   "source": [
    "import cv2\n",
    "import os\n",
    "\n",
    "def quantify_smoothness(image_path):\n",
    "    # Placeholder implementation of quantify_smoothness function\n",
    "    # You need to replace this with your actual implementation\n",
    "    return 1000  # Example value for demonstration\n",
    "\n",
    "# Output directory for annotated images\n",
    "output_directory = 'annotated_images'\n",
    "\n",
    "# Create the output directory if it doesn't exist\n",
    "os.makedirs(output_directory, exist_ok=True)\n",
    "\n",
    "# Image directory\n",
    "image_directory = 'C:/Users/farha/Downloads/Kakapo/Smoothness/Olive'\n",
    "\n",
    "# Get a list of image files in the directory\n",
    "image_files = [f for f in os.listdir(image_directory) if f.endswith('.png')]\n",
    "\n",
    "# Iterate over each image file\n",
    "for image_file in image_files:\n",
    "    # Get the full path of the image\n",
    "    image_path = os.path.join(image_directory, image_file)\n",
    "    \n",
    "    # Quantify smoothness\n",
    "    smoothness = quantify_smoothness(image_path)\n",
    "    \n",
    "    # Read the image\n",
    "    image = cv2.imread(image_path)\n",
    "    \n",
    "    # Annotate the image with the smoothness measure\n",
    "    annotated_image = image.copy()\n",
    "    cv2.putText(annotated_image, f'Smoothness: {smoothness}', (20, 30), cv2.FONT_HERSHEY_SIMPLEX, 1, (0, 255, 0), 2)\n",
    "    \n",
    "    # Save the annotated image\n",
    "    output_path = os.path.join(output_directory, image_file)\n",
    "    cv2.imwrite(output_path, annotated_image)\n",
    "    \n",
    "    print(f'Annotated image saved: {output_path}')\n"
   ]
  },
  {
   "cell_type": "code",
   "execution_count": 22,
   "id": "2288bd8f",
   "metadata": {},
   "outputs": [
    {
     "name": "stdout",
     "output_type": "stream",
     "text": [
      "Smoothness results saved to C:/Users/farha/Downloads/Kakapo/Smoothness/Total/smoothness_results.txt\n"
     ]
    }
   ],
   "source": [
    "import cv2\n",
    "import os\n",
    "import numpy as np\n",
    "\n",
    "def quantify_smoothness(image):\n",
    "    # Compute the gradient magnitude\n",
    "    gradient_x = cv2.Sobel(image, cv2.CV_64F, 1, 0, ksize=3)\n",
    "    gradient_y = cv2.Sobel(image, cv2.CV_64F, 0, 1, ksize=3)\n",
    "    gradient_magnitude = np.sqrt(gradient_x**2 + gradient_y**2)\n",
    "    \n",
    "    # Calculate the average gradient magnitude as a measure of smoothness\n",
    "    smoothness_measure = np.mean(gradient_magnitude)\n",
    "    \n",
    "    return smoothness_measure\n",
    "\n",
    "# Directory containing PNG images\n",
    "image_directory = 'C:/Users/farha/Downloads/Kakapo/Smoothness/Total/'\n",
    "\n",
    "# Output file for smoothness results\n",
    "output_file = 'C:/Users/farha/Downloads/Kakapo/Smoothness/Total/smoothness_results.txt'\n",
    "\n",
    "# Open the output file in write mode\n",
    "with open(output_file, 'w') as f:\n",
    "    # Iterate over each PNG image in the directory\n",
    "    for filename in os.listdir(image_directory):\n",
    "        if filename.endswith('.png'):\n",
    "            # Read the image\n",
    "            image_path = os.path.join(image_directory, filename)\n",
    "            image = cv2.imread(image_path, cv2.IMREAD_GRAYSCALE)\n",
    "            \n",
    "            # Calculate smoothness\n",
    "            smoothness = quantify_smoothness(image)\n",
    "            \n",
    "            # Write the filename and smoothness to the output file\n",
    "            f.write(f'{filename}: {smoothness}\\n')\n",
    "\n",
    "print('Smoothness results saved to', output_file)\n"
   ]
  },
  {
   "cell_type": "code",
   "execution_count": null,
   "id": "9d5e2e3a",
   "metadata": {},
   "outputs": [],
   "source": []
  }
 ],
 "metadata": {
  "kernelspec": {
   "display_name": "Python 3 (ipykernel)",
   "language": "python",
   "name": "python3"
  },
  "language_info": {
   "codemirror_mode": {
    "name": "ipython",
    "version": 3
   },
   "file_extension": ".py",
   "mimetype": "text/x-python",
   "name": "python",
   "nbconvert_exporter": "python",
   "pygments_lexer": "ipython3",
   "version": "3.11.5"
  }
 },
 "nbformat": 4,
 "nbformat_minor": 5
}
